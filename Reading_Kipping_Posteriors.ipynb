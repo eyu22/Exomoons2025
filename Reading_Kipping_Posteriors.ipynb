{
 "cells": [
  {
   "cell_type": "code",
   "execution_count": 2,
   "id": "acc3b8e4-47c4-41ce-ad73-5ee90d929249",
   "metadata": {},
   "outputs": [],
   "source": [
    "import numpy as np"
   ]
  },
  {
   "cell_type": "code",
   "execution_count": 11,
   "id": "f6335b85-9551-484b-a3bc-9235177e5bec",
   "metadata": {},
   "outputs": [
    {
     "name": "stdout",
     "output_type": "stream",
     "text": [
      "Best-fit sample (from highest evidence row):\n",
      "Rp/R* = 0.124107\n",
      "rho_star = 2720.77\n",
      "b = 0.274943\n",
      "P = 1071.23\n",
      "tau = 55253.3\n",
      "q1 = 0.428801\n",
      "q2 = 0.483676\n",
      "Ps = 0.630702\n",
      "aSP/RP = 8.52847\n",
      "phi_s = 0.548778\n",
      "cos(iS) = 2.92778\n",
      "OmegaS = -1.57812\n",
      "Msp = 0.00018904\n",
      "Rsp = 0.114167\n"
     ]
    }
   ],
   "source": [
    "import numpy as np\n",
    "\n",
    "# Load the .dat file\n",
    "samples = np.loadtxt(\"/pscratch/sd/e/emmayu/kipping_exomoons/KIC-3239945/fits/LRVmoon-post_equal_weights.dat\")\n",
    "\n",
    "# Get the sample with the highest evidence (column 14)\n",
    "best_idx = np.argmax(samples[:, -1])\n",
    "best_sample = samples[best_idx, :-1]  # drop evidence column\n",
    "\n",
    "# Define the parameter names (14 parameters)\n",
    "param_names = [\n",
    "    \"Rp/R*\", \"rho_star\", \"b\", \"P\", \"tau\", \"q1\", \"q2\",\n",
    "    \"Ps\", \"aSP/RP\", \"phi_s\", \"cos(iS)\", \"OmegaS\", \"Msp\", \"Rsp\"\n",
    "]\n",
    "\n",
    "# Format output\n",
    "print(\"Best-fit sample (from highest evidence row):\")\n",
    "for name, val in zip(param_names, best_sample):\n",
    "    print(f\"{name} = {val:.6g}\")\n"
   ]
  },
  {
   "cell_type": "code",
   "execution_count": null,
   "id": "b54de20f-52c3-4522-a055-141260fa54bb",
   "metadata": {},
   "outputs": [],
   "source": []
  }
 ],
 "metadata": {
  "kernelspec": {
   "display_name": "NERSC Python",
   "language": "python",
   "name": "python3"
  },
  "language_info": {
   "codemirror_mode": {
    "name": "ipython",
    "version": 3
   },
   "file_extension": ".py",
   "mimetype": "text/x-python",
   "name": "python",
   "nbconvert_exporter": "python",
   "pygments_lexer": "ipython3",
   "version": "3.11.7"
  }
 },
 "nbformat": 4,
 "nbformat_minor": 5
}
