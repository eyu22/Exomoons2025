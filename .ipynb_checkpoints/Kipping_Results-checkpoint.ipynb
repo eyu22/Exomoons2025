{
 "cells": [
  {
   "cell_type": "code",
   "execution_count": 1,
   "id": "966338e6-7325-465d-bfe5-001f7989eaed",
   "metadata": {},
   "outputs": [],
   "source": [
    "import numpy as np\n",
    "import pymultinest\n",
    "import batman\n"
   ]
  },
  {
   "cell_type": "code",
   "execution_count": 2,
   "id": "a4a186ff-a9c1-42c8-b3bd-464e8025c718",
   "metadata": {
    "scrolled": true
   },
   "outputs": [],
   "source": [
    "# Load your time, flux, and error arrays from AVG_SAP.dat\n",
    "data = np.loadtxt('/pscratch/sd/e/emmayu/kipping_exomoons/KIC-3239945/photometry/planet1/AVG_SAP.dat')\n",
    "time_array = data[:,0]\n",
    "observed_flux = data[:,1]\n",
    "flux_err = data[:,2]\n"
   ]
  },
  {
   "cell_type": "code",
   "execution_count": 3,
   "id": "eea90363-5e9e-454b-a9e8-effb30e2f74b",
   "metadata": {},
   "outputs": [],
   "source": [
    "def prior(cube, ndim, nparams):\n",
    "    cube[0] = 5 + cube[0] * 5           # P: 5-10 days (example)\n",
    "    cube[1] = cube[1] * 1               # tau: 0-1 phase\n",
    "    cube[2] = cube[2] * 0.2             # p (Rp/Rs)\n",
    "    cube[3] = cube[3] * 1               # b: 0-1\n",
    "    cube[4] = 10**(-3 + cube[4]*6)      # rho_star log-uniform 1e-3-1e3\n",
    "    cube[5] = cube[5] * 1               # q1 limb darkening\n",
    "    cube[6] = cube[6] * 1               # q2 limb darkening"
   ]
  },
  {
   "cell_type": "code",
   "execution_count": 4,
   "id": "6751cbcc-b54e-4382-b32b-9a48369cf076",
   "metadata": {},
   "outputs": [],
   "source": [
    "def generate_mandel_agol_model(P, tau, p, b, rho_star, q1, q2, time_array):\n",
    "    \"\"\"\n",
    "    Parameters:\n",
    "    - P: orbital period [days]\n",
    "    - tau: transit time (mid-transit time) [same units as time_array]\n",
    "    - p: Rp/Rs (planet radius / star radius)\n",
    "    - b: impact parameter (unitless)\n",
    "    - rho_star: stellar density [g/cm^3 or solar units, converted below]\n",
    "    - q1, q2: quadratic limb darkening coefficients in Kipping's parameterization\n",
    "    - time_array: 1D numpy array of time stamps [days]\n",
    "    \n",
    "    Returns:\n",
    "    - flux: model flux at each time point\n",
    "    \"\"\"\n",
    "\n",
    "    # Constants\n",
    "    G = 6.67430e-11       # gravitational constant (m^3 kg^-1 s^-2)\n",
    "    Msun = 1.98847e30     # solar mass (kg)\n",
    "    Rsun = 6.957e8        # solar radius (m)\n",
    "    day = 86400.0         # seconds in a day\n",
    "    \n",
    "    # Convert stellar density rho_star to SI (kg/m^3) if needed\n",
    "    # Here assume rho_star is in g/cm^3:\n",
    "    rho_star_SI = rho_star * 1000  # 1 g/cm3 = 1000 kg/m3\n",
    "    \n",
    "    # Calculate semi-major axis in stellar radii (a/Rs) using Kepler's Third Law:\n",
    "    # a^3 = (G * M_star * P^2) / (4 * pi^2)\n",
    "    # M_star can be estimated from rho_star and Rs:\n",
    "    # rho_star = M_star / (4/3 pi Rs^3)\n",
    "    # => M_star = rho_star * (4/3) * pi * Rs^3\n",
    "    \n",
    "    M_star = rho_star_SI * (4/3) * np.pi * Rsun**3  # kg\n",
    "    a_meters = ((G * M_star * (P * day)**2) / (4 * np.pi**2))**(1/3)\n",
    "    a_rs = a_meters / Rsun  # semi-major axis in stellar radii\n",
    "    \n",
    "    # Calculate inclination from impact parameter: b = (a/Rs) * cos(i)\n",
    "    incl_rad = np.arccos(b / a_rs)\n",
    "    incl_deg = np.degrees(incl_rad)\n",
    "    \n",
    "    # Convert limb darkening parameters q1, q2 (Kipping 2013) to u1, u2\n",
    "    u1 = 2 * np.sqrt(q1) * q2\n",
    "    u2 = np.sqrt(q1) * (1 - 2 * q2)\n",
    "    \n",
    "    # Setup batman parameters\n",
    "    params = batman.TransitParams()\n",
    "    params.t0 = tau         # time of inferior conjunction (mid-transit)\n",
    "    params.per = P          # orbital period in days\n",
    "    params.rp = p           # planet radius (in stellar radii)\n",
    "    params.a = a_rs         # semi-major axis (in stellar radii)\n",
    "    params.inc = incl_deg   # orbital inclination in degrees\n",
    "    params.ecc = 0.0        # eccentricity (assume circular)\n",
    "    params.w = 90.0         # longitude of periastron (degrees)\n",
    "    params.u = [u1, u2]     # quadratic limb darkening coefficients\n",
    "    params.limb_dark = \"quadratic\"\n",
    "    \n",
    "    # Create model\n",
    "    m = batman.TransitModel(params, time_array)\n",
    "    flux = m.light_curve(params)\n",
    "    \n",
    "    return flux\n",
    "\n",
    "def loglike(cube, ndim, nparams):\n",
    "    P, tau, p, b, rho_star, q1, q2 = cube[:7]\n",
    "    model_flux = generate_mandel_agol_model(P, tau, p, b, rho_star, q1, q2, time_array)\n",
    "    chi2 = np.sum(((model_flux - observed_flux)/flux_err)**2)\n",
    "    return -0.5 * chi2\n"
   ]
  },
  {
   "cell_type": "code",
   "execution_count": 5,
   "id": "060b4c4b-e2bb-426d-b034-69e8d4093c6e",
   "metadata": {},
   "outputs": [
    {
     "name": "stdout",
     "output_type": "stream",
     "text": [
      " *****************************************************\n",
      " MultiNest v3.12\n",
      " Copyright Farhan Feroz & Mike Hobson\n",
      " Release Nov 2019\n",
      "\n",
      " no. of live points =    5\n",
      " dimensionality =    7\n",
      " *****************************************************\n",
      " Starting MultiNest\n",
      " generating live points\n",
      " live points generated, starting sampling\n",
      "Acceptance Rate:                        1.000000\n",
      "Replacements:                                  5\n",
      "Total Samples:                                 5\n",
      "Nested Sampling ln(Z):            **************\n",
      "Importance Nested Sampling ln(Z): -114566.854681\n",
      " ln(ev)=  -114566.85468074201      +/-  0.56735137480059494     \n",
      " Total Likelihood Evaluations:            5\n",
      " Sampling finished. Exiting MultiNest\n"
     ]
    }
   ],
   "source": [
    "pymultinest.run(loglike, prior, n_dims=7, n_params=7,\n",
    "                outputfiles_basename='your_fit_',\n",
    "                resume=False, verbose=True, n_live_points=5)\n"
   ]
  },
  {
   "cell_type": "code",
   "execution_count": null,
   "id": "ae1d1da4-87ab-4410-a074-349623bd502b",
   "metadata": {},
   "outputs": [],
   "source": []
  }
 ],
 "metadata": {
  "kernelspec": {
   "display_name": "Python (exomoons)",
   "language": "python",
   "name": "exomoons"
  },
  "language_info": {
   "codemirror_mode": {
    "name": "ipython",
    "version": 3
   },
   "file_extension": ".py",
   "mimetype": "text/x-python",
   "name": "python",
   "nbconvert_exporter": "python",
   "pygments_lexer": "ipython3",
   "version": "3.10.0"
  }
 },
 "nbformat": 4,
 "nbformat_minor": 5
}
